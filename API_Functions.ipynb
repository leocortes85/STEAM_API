{
 "cells": [
  {
   "cell_type": "code",
   "execution_count": 1,
   "metadata": {},
   "outputs": [],
   "source": [
    "import pandas as pd\n",
    "\n",
    "from typing import Dict\n",
    "import warnings\n",
    "warnings.filterwarnings(\"ignore\")"
   ]
  },
  {
   "cell_type": "code",
   "execution_count": 2,
   "metadata": {},
   "outputs": [],
   "source": [
    "df_playtime_genre = pd.read_csv('data/csv/playtime_genre.csv', encoding='utf-8')\n",
    "df_user_for_genre = pd.read_csv('data/csv/user_for_genre.csv', encoding='utf-8')\n",
    "df_user_recommend = pd.read_csv('data/csv/user_recommend.csv', encoding='utf-8')\n",
    "df_sentiment_year = pd.read_csv('data/csv/sentiment_year.csv', encoding='utf-8')"
   ]
  },
  {
   "cell_type": "markdown",
   "metadata": {},
   "source": [
    "# Play Time Genre\n",
    "This function receives a genre as a parameter and returns the year with the most hours played for said genre."
   ]
  },
  {
   "cell_type": "code",
   "execution_count": 3,
   "metadata": {},
   "outputs": [],
   "source": [
    "def PlayTimeGenre(genre: str):\n",
    "    \"\"\"\n",
    "    Returns the year with the most hours played for the given genre.\n",
    "\n",
    "    Parameters:\n",
    "    - genre (str): Genre for which you want to obtain the year with the most hours played.\n",
    "\n",
    "    Returns:\n",
    "    - dict: Dictionary with the year of release with the most hours played for the given genre.\n",
    "    \"\"\"\n",
    "    #genre_lower = genre.lower()\n",
    "    # Filter the DataFrame by the given gender\n",
    "    genre_df = df_playtime_genre[df_playtime_genre['genres'] == genre]\n",
    "\n",
    "    # Get the year with most played hours\n",
    "    max_playtime_year = genre_df.loc[genre_df['playtime_forever'].idxmax(), 'release_year']\n",
    "\n",
    "    return {f\"Release year with the most hours played for the genre {genre}\": max_playtime_year}\n",
    "\n"
   ]
  },
  {
   "cell_type": "code",
   "execution_count": 4,
   "metadata": {},
   "outputs": [],
   "source": [
    "def PlayTimeGenre(genre: str):\n",
    "    \"\"\"\n",
    "    Returns the release year with the most hours played for the given genre.\n",
    "\n",
    "    Parameters:\n",
    "    - genre (str): Genre for which you want to obtain the release year with the most hours played.\n",
    "\n",
    "    Returns:\n",
    "    - dict: Dictionary with the release year with the most hours played for the specified genre.\n",
    "    \"\"\"\n",
    "    # Convert the gender to lowercase to do the search regardless of upper or lower case\n",
    "    genre_lower = genre.lower() if isinstance(genre, str) else None\n",
    "\n",
    "    # Filter the DataFrame by the given gender\n",
    "    genre_df = df_playtime_genre[df_playtime_genre['genres'].str.lower() == genre_lower]\n",
    "\n",
    "    if genre_df.empty:\n",
    "        return {f\"No hay datos disponibles para el género {genre}\": None}\n",
    "\n",
    "    # Check for data before trying to get the index of the maximum value\n",
    "    if not genre_df['playtime_forever'].empty:\n",
    "        # Get the year with the most hours played\n",
    "        max_playtime_year = genre_df.loc[genre_df['playtime_forever'].idxmax(), 'release_year']\n",
    "\n",
    "        return {f\"Release year with the most hours played for the genre {genre}\": max_playtime_year}\n",
    "    else:\n",
    "        return {f\"There is no data available for the gender {genre}\": None}\n"
   ]
  },
  {
   "cell_type": "code",
   "execution_count": 5,
   "metadata": {},
   "outputs": [
    {
     "data": {
      "text/plain": [
       "{'Release year with the most hours played for the genre Action': '2012'}"
      ]
     },
     "execution_count": 5,
     "metadata": {},
     "output_type": "execute_result"
    }
   ],
   "source": [
    "PlayTimeGenre('Action')"
   ]
  },
  {
   "cell_type": "markdown",
   "metadata": {},
   "source": [
    "# User for genre"
   ]
  },
  {
   "cell_type": "code",
   "execution_count": 6,
   "metadata": {},
   "outputs": [],
   "source": [
    "def UserForGenre(genre: str):\n",
    "    \"\"\"\n",
    "    Returns the user with the most hours played for the given genre and a list of hours played per year for that user.\n",
    "\n",
    "    Parameters:\n",
    "    - genre (str): Genre for which you want to obtain the user and the accumulation of hours played.\n",
    "\n",
    "    Returns:\n",
    "    - dict: Dictionary with the user with the most hours played and the list of hours played per year for that user.\n",
    "    \"\"\"\n",
    "    \n",
    "    # Convert the gender to lowercase to do the search regardless of upper or lower case\n",
    "    genre_lower = genre.lower() if isinstance(genre, str) else None\n",
    "    # Filter the DataFrame by the given gender\n",
    "    genre_df = df_user_for_genre[df_user_for_genre['genres'].str.lower() == genre_lower]\n",
    "\n",
    "    if genre_df.empty:\n",
    "        return {\"User with the most hours played for the genre\": None, \"Hours played per year\": {}}\n",
    "\n",
    "    # Group by user and add hours played\n",
    "    user_playtime_sum = genre_df.groupby('user_id')['playtime_forever'].sum()\n",
    "\n",
    "    # Take the user with the maximum sum of hours played\n",
    "    max_playtime_user = user_playtime_sum.idxmax()\n",
    "\n",
    "    # Filter the DataFrame by the specific user\n",
    "    user_df = genre_df[genre_df['user_id'] == max_playtime_user]\n",
    "\n",
    "    # Create a dictionary with the hours played per year for the mentioned user\n",
    "    playtime_by_year = dict(zip(user_df['release_year'], user_df['playtime_forever']))\n",
    "\n",
    "    return {f\"User with the most hours played for the genre {genre}\": max_playtime_user, \"Hours played per year\": playtime_by_year}\n"
   ]
  },
  {
   "cell_type": "code",
   "execution_count": 14,
   "metadata": {},
   "outputs": [
    {
     "data": {
      "text/plain": [
       "{'User with the most hours played for the genre action': 'Sp3ctre',\n",
       " 'Hours played per year': {'1993': 0,\n",
       "  '1998': 0,\n",
       "  '1999': 44,\n",
       "  '2002': 238,\n",
       "  '2003': 7673,\n",
       "  '2004': 127411,\n",
       "  '2005': 21339,\n",
       "  '2006': 896,\n",
       "  '2008': 224,\n",
       "  '2010': 78083,\n",
       "  '2012': 378296,\n",
       "  '2015': 312512,\n",
       "  '2017': 43327,\n",
       "  'no data': 84602}}"
      ]
     },
     "execution_count": 14,
     "metadata": {},
     "output_type": "execute_result"
    }
   ],
   "source": [
    "UserForGenre('action')"
   ]
  },
  {
   "cell_type": "markdown",
   "metadata": {},
   "source": [
    "# User Recommend"
   ]
  },
  {
   "cell_type": "code",
   "execution_count": 8,
   "metadata": {},
   "outputs": [],
   "source": [
    "def UsersRecommend(year):\n",
    "    '''\n",
    "    This function takes a year as input and filters user reviews for that year, considering only recommended reviews.\n",
    "    It then selects positive/neutral reviews (sentiment_analysis 1 or 2) and counts the recommendations for each game.\n",
    "    The function returns the top 3 games with the highest recommendation counts in the specified year.\n",
    "\n",
    "    Parameters:\n",
    "    - year (int): The target year for filtering reviews.\n",
    "\n",
    "    Returns:\n",
    "    List of dictionaries, where each dictionary represents a top game and its recommendation count.\n",
    "    Example:\n",
    "    [{'Position 1: GameA': 30}, {'Position 2: GameB': 25}, {'Position 3: GameC': 20}]\n",
    "    '''\n",
    "    # Filter reviews for the given year and which are recommended\n",
    "    filtered_reviews = df_user_recommend[(df_user_recommend['posted'] == year) & (df_user_recommend['recommend'] == True)]\n",
    "    \n",
    "    # Filter only positive/neutral reviews (sentiment_analysis 1 or 2)\n",
    "    positive_reviews = filtered_reviews[filtered_reviews['sentiment_analysis'].isin([1, 2])]\n",
    "    \n",
    "    # Count recommendations per item\n",
    "    recommendations_count = positive_reviews['item_name'].value_counts().reset_index()\n",
    "    recommendations_count.columns = ['item_name', 'recommendations_count']\n",
    "    \n",
    "    # Get top 3\n",
    "    top3_recommendations = recommendations_count.head(3)\n",
    "    \n",
    "    \n",
    "    result = [{\"Position {}: {}\".format(i+1, row['item_name']): row['recommendations_count']} for i, row in top3_recommendations.iterrows()]\n",
    "    \n",
    "    return result\n"
   ]
  },
  {
   "cell_type": "code",
   "execution_count": 9,
   "metadata": {},
   "outputs": [
    {
     "data": {
      "text/plain": [
       "[{'Position 1: Team Fortress 2': 20},\n",
       " {'Position 2: Killing Floor': 6},\n",
       " {\"Position 3: Garry's Mod\": 4}]"
      ]
     },
     "execution_count": 9,
     "metadata": {},
     "output_type": "execute_result"
    }
   ],
   "source": [
    "UsersRecommend(2010)"
   ]
  },
  {
   "cell_type": "markdown",
   "metadata": {},
   "source": [
    "# Users Not Recommend"
   ]
  },
  {
   "cell_type": "code",
   "execution_count": 10,
   "metadata": {},
   "outputs": [],
   "source": [
    "def UsersNotRecommend(year):\n",
    "    '''\n",
    "    This function takes a year as input and filters user reviews for that year, considering only recommended reviews.\n",
    "    It then selects negative reviews (sentiment_analysis 0) and counts the recommendations for each game.\n",
    "    The function returns the top 3 games with the lowest recommendation counts in the specified year.\n",
    "\n",
    "    Parameters:\n",
    "    - year (int): The target year for filtering reviews.\n",
    "\n",
    "    Returns:\n",
    "    List of dictionaries, where each dictionary represents a low top items and its recommendation count.\n",
    "    Example:\n",
    "    [{'Position 1: GameA': 30}, {'Position 2: GameB': 25}, {'Position 3: GameC': 20}]\n",
    "    '''\n",
    "    # Filter reviews for the given year that are not recommended\n",
    "    filtered_reviews = df_user_recommend[(df_user_recommend['posted'] == year) & (df_user_recommend['recommend'] == False)]\n",
    "    \n",
    "    # Filter only negative reviews (sentiment_analysis 0)\n",
    "    negative_reviews = filtered_reviews[filtered_reviews['sentiment_analysis'] == 0]\n",
    "    \n",
    "    # Count recommendations per item\n",
    "    not_recommendations_count = negative_reviews['item_name'].value_counts().reset_index()\n",
    "    not_recommendations_count.columns = ['item_name', 'not_recommendations_count']\n",
    "    \n",
    "    # Get low top 3\n",
    "    top3_not_recommendations = not_recommendations_count.head(3)\n",
    "    \n",
    "    \n",
    "    result = [{\"Position {}: {}\".format(i+1, row['item_name']): row['not_recommendations_count']} for i, row in top3_not_recommendations.iterrows()]\n",
    "    \n",
    "    return result\n",
    "\n"
   ]
  },
  {
   "cell_type": "code",
   "execution_count": 11,
   "metadata": {},
   "outputs": [
    {
     "data": {
      "text/plain": [
       "[{'Position 1: Dota 2': 342},\n",
       " {'Position 2: PAYDAY 2': 225},\n",
       " {'Position 3: War Thunder': 152}]"
      ]
     },
     "execution_count": 11,
     "metadata": {},
     "output_type": "execute_result"
    }
   ],
   "source": [
    "UsersNotRecommend(2014)"
   ]
  },
  {
   "cell_type": "markdown",
   "metadata": {},
   "source": [
    "# Sentiment Analisys"
   ]
  },
  {
   "cell_type": "code",
   "execution_count": 12,
   "metadata": {},
   "outputs": [],
   "source": [
    "def sentiment_analysis(year):\n",
    "    '''\n",
    "    This function performs sentiment analysis on game reviews for a specified year. It filters reviews based on the release year\n",
    "    and counts the number of reviews for each sentiment category (Negative, Neutral, Positive).\n",
    "\n",
    "    Parameters:\n",
    "    - year (int): The target year for filtering reviews.\n",
    "\n",
    "    Returns:\n",
    "    Dictionary containing the counts of reviews for each sentiment category.\n",
    "    Example:\n",
    "    {'Negative': 10, 'Neutral': 20, 'Positive': 30}\n",
    "    '''\n",
    "\n",
    "    # Filter reviews for the given year\n",
    "    filtered_reviews = df_sentiment_year[df_sentiment_year['release_year'] == year]\n",
    "    \n",
    "    # Count the number of records for each sentiment analysis category\n",
    "    sentiment_counts = filtered_reviews['sentiment_analysis'].value_counts().to_dict()\n",
    "    \n",
    "    # Create a dictionary with the categories and their quantities\n",
    "    result = {\n",
    "        'Negative': sentiment_counts.get(0, 0),\n",
    "        'Neutral': sentiment_counts.get(1, 0),\n",
    "        'Positive': sentiment_counts.get(2, 0)\n",
    "    }\n",
    "    \n",
    "    return result\n"
   ]
  },
  {
   "cell_type": "code",
   "execution_count": 13,
   "metadata": {},
   "outputs": [
    {
     "data": {
      "text/plain": [
       "{'Negative': 3667, 'Neutral': 3004, 'Positive': 8600}"
      ]
     },
     "execution_count": 13,
     "metadata": {},
     "output_type": "execute_result"
    }
   ],
   "source": [
    "sentiment_analysis(2014)"
   ]
  }
 ],
 "metadata": {
  "kernelspec": {
   "display_name": "Python 3",
   "language": "python",
   "name": "python3"
  },
  "language_info": {
   "codemirror_mode": {
    "name": "ipython",
    "version": 3
   },
   "file_extension": ".py",
   "mimetype": "text/x-python",
   "name": "python",
   "nbconvert_exporter": "python",
   "pygments_lexer": "ipython3",
   "version": "3.11.4"
  }
 },
 "nbformat": 4,
 "nbformat_minor": 2
}
